{
 "cells": [
  {
   "cell_type": "code",
   "execution_count": 2,
   "metadata": {},
   "outputs": [],
   "source": [
    "import math\n",
    "import pytest"
   ]
  },
  {
   "cell_type": "code",
   "execution_count": 8,
   "metadata": {},
   "outputs": [],
   "source": [
    "class Gaussian_dist():\n",
    "    \"\"\"\n",
    "    This is a Gaussian distribution class for calculating and visualizing \n",
    "    a gaussian ditribution class\n",
    "\n",
    "    Attributes:\n",
    "    - mean (float) representing the mean value of the distribution\n",
    "    - stdev (float) representing the standard deviation of the distribution\n",
    "    - data (list of floats) a list of floats extracted from a data file\n",
    " \n",
    "    \"\"\"\n",
    "\n",
    "    def __init__(self, mu = 0, sigma = 1):\n",
    "        \"\"\"\n",
    "        This is how we intend to create a gaussian distribution object at the beginning,\n",
    "        by creating the simplest special case when the mean mu=0 and the standard deviation\n",
    "        sigma=1\n",
    "        \"\"\"\n",
    "        self.mean = mu\n",
    "        self.stdev=sigma\n",
    "        self.data = []\n",
    "\n",
    "    def calculate_mean(self):\n",
    "        \"\"\" Method to calculate the mean of the dataset\n",
    "        Args: None\n",
    "\n",
    "        Returns:\n",
    "         float: mean of the data set.\n",
    "        \"\"\"\n",
    "        print(\"len(self.data):\",len(self.data))\n",
    "        the_mean= 1.0 * sum(self.data)/len(self.data)\n",
    "        self.mean=the_mean\n",
    "        print(\"self.mean=\",self.mean)\n",
    "        return self.mean\n",
    "\n",
    "    def calculate_stdev(self,sample = True):\n",
    "        \"\"\"Method to calculate the standard deviation of the dataset\n",
    "        Args: \n",
    "            sample (boolean): whether the data represents a sample or population\n",
    "        Returns:\n",
    "            float: The standard deviation of the dataset\n",
    "        \"\"\"\n",
    "        if sample:\n",
    "            n = len(self.data) -1\n",
    "        else:\n",
    "            n = len(self.data)\n",
    "        \n",
    "        mean=self.mean\n",
    "        print(\"mean at stdev=\",mean)\n",
    "        sigma_pow2 = 0\n",
    "\n",
    "        for line in self.data:\n",
    "            sigma_pow2 += (line - mean) ** 2\n",
    "        \n",
    "        sigma = math.sqrt(sigma_pow2 / n)\n",
    "        self.stdev = sigma\n",
    "        print(\"self.stdev=\",self.stdev)\n",
    "        return self.stdev\n",
    "\n",
    "    def read_data_file(self, file_name, sample = True):\n",
    "        \"\"\" Method to read in data from a txt file:\n",
    "        The txt file must have only 1 number (float) per line.\n",
    "        The numbers are stored in the data attribute.\n",
    "        After reading in the file, the mean and the standard deviation are calculated.\n",
    "\n",
    "        Args:\n",
    "            file_name (string):name of a txt file to read data from.\n",
    "        Returns: \n",
    "            None \n",
    "        \"\"\"\n",
    "        with open (file_name) as file:\n",
    "            data_list = []\n",
    "            line = file.readline()\n",
    "            while line:\n",
    "                data_list.append(float(line))\n",
    "                line = file.readline()\n",
    "        file.close()\n",
    "\n",
    "        self.data = data_list\n",
    "        self.mean = self.calculate_mean()\n",
    "        self.stdev = self.calculate_stdev(sample)\n",
    "            "
   ]
  },
  {
   "cell_type": "code",
   "execution_count": 9,
   "metadata": {},
   "outputs": [
    {
     "name": "stdout",
     "output_type": "stream",
     "text": [
      "len(self.data): 6\n",
      "self.mean= 3.0\n",
      "self.stdev= 0.8944271909999159\n"
     ]
    }
   ],
   "source": [
    "file_name='my_file.txt'\n",
    "Gaussian_dist().read_data_file(file_name, sample=True)"
   ]
  }
 ],
 "metadata": {
  "kernelspec": {
   "display_name": "Stat_dist_py_pack",
   "language": "python",
   "name": "python3"
  },
  "language_info": {
   "codemirror_mode": {
    "name": "ipython",
    "version": 3
   },
   "file_extension": ".py",
   "mimetype": "text/x-python",
   "name": "python",
   "nbconvert_exporter": "python",
   "pygments_lexer": "ipython3",
   "version": "3.8.10"
  },
  "orig_nbformat": 4,
  "vscode": {
   "interpreter": {
    "hash": "1f1772a3a91e68f15a513a694abc38ab3128d34b259e4c57fb17de9a8a6c2c44"
   }
  }
 },
 "nbformat": 4,
 "nbformat_minor": 2
}
